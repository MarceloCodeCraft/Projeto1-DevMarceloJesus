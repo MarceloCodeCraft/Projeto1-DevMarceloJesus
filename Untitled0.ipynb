{
  "nbformat": 4,
  "nbformat_minor": 0,
  "metadata": {
    "colab": {
      "provenance": [],
      "authorship_tag": "ABX9TyO2F0GaCPYPK/Ntx8TrmwB7",
      "include_colab_link": true
    },
    "kernelspec": {
      "name": "python3",
      "display_name": "Python 3"
    },
    "language_info": {
      "name": "python"
    }
  },
  "cells": [
    {
      "cell_type": "markdown",
      "metadata": {
        "id": "view-in-github",
        "colab_type": "text"
      },
      "source": [
        "<a href=\"https://colab.research.google.com/github/MarceloCodeCraft/Projeto1-DevMarceloJesus/blob/main/Untitled0.ipynb\" target=\"_parent\"><img src=\"https://colab.research.google.com/assets/colab-badge.svg\" alt=\"Open In Colab\"/></a>"
      ]
    },
    {
      "cell_type": "code",
      "source": [
        "# put a zero  in for the unkown value\n",
        "n1 = 1\n",
        "d1 = 2\n",
        "n2 = 0\n",
        "d2 = 16\n",
        "\n",
        "if n2==0:\n",
        "   answer = d2 * n1 / d1\n",
        "   print(\"n2 = \", answer)\n",
        "\n",
        "   if d2==0:\n",
        "    answer = n2 * d1 / n1\n",
        "    print('d2 =', answer)\n"
      ],
      "metadata": {
        "colab": {
          "base_uri": "https://localhost:8080/"
        },
        "id": "A81Lug_nqR-e",
        "outputId": "2b57a605-d74c-4769-907d-4c475151d5b7"
      },
      "execution_count": 1,
      "outputs": [
        {
          "output_type": "stream",
          "name": "stdout",
          "text": [
            "n2 =  8.0\n"
          ]
        }
      ]
    }
  ]
}